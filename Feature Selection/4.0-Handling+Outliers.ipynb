{
 "cells": [
  {
   "cell_type": "markdown",
   "id": "9a0268f0-ef24-4a91-829d-a349856a40bf",
   "metadata": {},
   "source": [
    "## 5 number Summary And Box Plot"
   ]
  },
  {
   "cell_type": "code",
   "execution_count": 1,
   "id": "8b07cdf2-c8ee-4078-b906-89735d4d2789",
   "metadata": {},
   "outputs": [],
   "source": [
    "## Minimum,MAximum,Median,Q1,Q3,IQR"
   ]
  },
  {
   "cell_type": "code",
   "execution_count": 2,
   "id": "ec419cc5-7f01-448a-b140-5bb57b463336",
   "metadata": {},
   "outputs": [],
   "source": [
    "import numpy as np"
   ]
  },
  {
   "cell_type": "code",
   "execution_count": 3,
   "id": "f5ad4dc0-f110-44fc-acd7-0e70e6feece7",
   "metadata": {},
   "outputs": [],
   "source": [
    "lst_marks=[45,32,56,75,89,54,32,89,90,87,67,54,45,98,99,67,74]\n",
    "minimum,Q1,median,Q3,maximum=np.quantile(lst_marks,[0,0.25,0.50,0.75,1.0])"
   ]
  },
  {
   "cell_type": "code",
   "execution_count": 20,
   "id": "469edd4f",
   "metadata": {},
   "outputs": [],
   "source": [
    "lsist_marks=[32,43,4,5,6,75,24,24,56,6,71,98,90,78,45,24,68,91,12,46,86]\n",
    "minimum,Q1,median,Q3,maximum=np.quantile(lsist_marks,[0,0.25,0.5,0.75,1.0])"
   ]
  },
  {
   "cell_type": "code",
   "execution_count": 21,
   "id": "0dbbfee2-dfae-458d-a2ab-e1eb3e4cffed",
   "metadata": {},
   "outputs": [
    {
     "data": {
      "text/plain": [
       "(4.0, 24.0, 45.0, 75.0, 98.0)"
      ]
     },
     "execution_count": 21,
     "metadata": {},
     "output_type": "execute_result"
    }
   ],
   "source": [
    "minimum,Q1,median,Q3,maximum"
   ]
  },
  {
   "cell_type": "code",
   "execution_count": 22,
   "id": "dc9f9703-3fe8-419c-ba76-28fa48cf5d17",
   "metadata": {},
   "outputs": [
    {
     "name": "stdout",
     "output_type": "stream",
     "text": [
      "51.0\n"
     ]
    }
   ],
   "source": [
    "IQR=Q3-Q1\n",
    "print(IQR)"
   ]
  },
  {
   "cell_type": "code",
   "execution_count": 23,
   "id": "e9a4c199-8a0c-4ff0-aa5d-43e8c39ef9ec",
   "metadata": {},
   "outputs": [],
   "source": [
    "lower_fence=Q1-1.5*(IQR)\n",
    "higher_fence=Q3+1.5*(IQR)\n"
   ]
  },
  {
   "cell_type": "code",
   "execution_count": 24,
   "id": "14b431fb-70e0-4b64-8c30-03cc62e223d6",
   "metadata": {},
   "outputs": [
    {
     "data": {
      "text/plain": [
       "-52.5"
      ]
     },
     "execution_count": 24,
     "metadata": {},
     "output_type": "execute_result"
    }
   ],
   "source": [
    "lower_fence"
   ]
  },
  {
   "cell_type": "code",
   "execution_count": 25,
   "id": "a1e02d6e-4c55-4244-a86a-896d90d30f60",
   "metadata": {},
   "outputs": [
    {
     "data": {
      "text/plain": [
       "151.5"
      ]
     },
     "execution_count": 25,
     "metadata": {},
     "output_type": "execute_result"
    }
   ],
   "source": [
    "higher_fence"
   ]
  },
  {
   "cell_type": "code",
   "execution_count": 18,
   "id": "b9f977b8-6f08-4a34-adea-9c141902af42",
   "metadata": {},
   "outputs": [],
   "source": [
    "lst_marks=[45,32,56,75,89,54,32,89,90,87,67,54,45,98,99,67,74]"
   ]
  },
  {
   "cell_type": "code",
   "execution_count": 10,
   "id": "73c5492b-2fff-47b6-9c59-369db982a50f",
   "metadata": {},
   "outputs": [],
   "source": [
    "import seaborn as sns"
   ]
  },
  {
   "cell_type": "code",
   "execution_count": 26,
   "id": "dd5c627a-2867-4467-82d7-6c272c279d1b",
   "metadata": {},
   "outputs": [
    {
     "data": {
      "text/plain": [
       "<Axes: >"
      ]
     },
     "execution_count": 26,
     "metadata": {},
     "output_type": "execute_result"
    },
    {
     "data": {
      "image/png": "[encoded data removed]",
      "text/plain": [
       "<Figure size 640x480 with 1 Axes>"
      ]
     },
     "metadata": {},
     "output_type": "display_data"
    }
   ],
   "source": [
    "sns.boxplot(lsist_marks)"
   ]
  },
  {
   "cell_type": "code",
   "execution_count": 12,
   "id": "f2973d0b-ae24-45e7-86d0-fd8163e93185",
   "metadata": {},
   "outputs": [],
   "source": [
    "lst_marks=[-100,-200,45,32,56,75,89,54,32,89,90,87,67,54,45,98,99,67,74,150,170,180]"
   ]
  },
  {
   "cell_type": "code",
   "execution_count": 13,
   "id": "51e31dff-b00d-4132-a914-91f8a31a5605",
   "metadata": {},
   "outputs": [
    {
     "data": {
      "text/plain": [
       "<Axes: >"
      ]
     },
     "execution_count": 13,
     "metadata": {},
     "output_type": "execute_result"
    },
    {
     "data": {
      "image/png": "[encoded data removed]",
      "text/plain": [
       "<Figure size 640x480 with 1 Axes>"
      ]
     },
     "metadata": {},
     "output_type": "display_data"
    }
   ],
   "source": [
    "sns.boxplot(lst_marks)"
   ]
  },
  {
   "cell_type": "code",
   "execution_count": null,
   "id": "57eff423-80d8-45ed-b8b7-50446e63faa5",
   "metadata": {},
   "outputs": [],
   "source": []
  },
  {
   "cell_type": "code",
   "execution_count": null,
   "id": "887c0cfa-4dc2-4e96-a82d-506ffadbe71e",
   "metadata": {},
   "outputs": [],
   "source": []
  }
 ],
 "metadata": {
  "kernelspec": {
   "display_name": "base",
   "language": "python",
   "name": "python3"
  },
  "language_info": {
   "codemirror_mode": {
    "name": "ipython",
    "version": 3
   },
   "file_extension": ".py",
   "mimetype": "text/x-python",
   "name": "python",
   "nbconvert_exporter": "python",
   "pygments_lexer": "ipython3",
   "version": "3.11.7"
  }
 },
 "nbformat": 4,
 "nbformat_minor": 5
}

{
 "cells": [
  {
   "cell_type": "markdown",
   "metadata": {},
   "source": [
    "# Module: Classes and Objects Assignments\n",
    "## Lesson: Creating and Working with Classes and Objects\n",
    "### Assignment 1: Basic Class and Object Creation\n",
    "\n",
    "Create a class named `Car` with attributes `make`, `model`, and `year`. Create an object of the class and print its attributes.\n",
    "\n",
    "### Assignment 2: Methods in Class\n",
    "\n",
    "Add a method named `start_engine` to the `Car` class that prints a message when the engine starts. Create an object of the class and call the method.\n",
    "\n",
    "### Assignment 3: Class with Constructor\n",
    "\n",
    "Create a class named `Student` with attributes `name` and `age`. Use a constructor to initialize these attributes. Create an object of the class and print its attributes.\n",
    "\n",
    "### Assignment 4: Class with Private Attributes\n",
    "\n",
    "Create a class named `BankAccount` with private attributes `account_number` and `balance`. Add methods to deposit and withdraw money, and to check the balance. Create an object of the class and perform some operations.\n",
    "\n",
    "### Assignment 5: Class Inheritance\n",
    "\n",
    "Create a base class named `Person` with attributes `name` and `age`. Create a derived class named `Employee` that inherits from `Person` and adds an attribute `employee_id`. Create an object of the derived class and print its attributes.\n",
    "\n",
    "### Assignment 6: Method Overriding\n",
    "\n",
    "In the `Employee` class, override the `__str__` method to return a string representation of the object. Create an object of the class and print it.\n",
    "\n",
    "### Assignment 7: Class Composition\n",
    "\n",
    "Create a class named `Address` with attributes `street`, `city`, and `zipcode`. Create a class named `Person` that has an `Address` object as an attribute. Create an object of the `Person` class and print its address.\n",
    "\n",
    "### Assignment 8: Class with Class Variables\n",
    "\n",
    "Create a class named `Counter` with a class variable `count`. Each time an object is created, increment the count. Add a method to get the current count. Create multiple objects and print the count.\n",
    "\n",
    "### Assignment 9: Static Methods\n",
    "\n",
    "Create a class named `MathOperations` with a static method to calculate the square root of a number. Call the static method without creating an object.\n",
    "\n",
    "### Assignment 10: Class with Properties\n",
    "\n",
    "Create a class named `Rectangle` with private attributes `length` and `width`. Use properties to get and set these attributes. Create an object of the class and test the properties.\n",
    "\n",
    "### Assignment 11: Abstract Base Class\n",
    "\n",
    "Create an abstract base class named `Shape` with an abstract method `area`. Create derived classes `Circle` and `Square` that implement the `area` method. Create objects of the derived classes and call the `area` method.\n",
    "\n",
    "### Assignment 12: Operator Overloading\n",
    "\n",
    "Create a class named `Vector` with attributes `x` and `y`. Overload the `+` operator to add two `Vector` objects. Create objects of the class and test the operator overloading.\n",
    "\n",
    "### Assignment 13: Class with Custom Exception\n",
    "\n",
    "Create a custom exception named `InsufficientBalanceError`. In the `BankAccount` class, raise this exception when a withdrawal amount is greater than the balance. Handle the exception and print an appropriate message.\n",
    "\n",
    "### Assignment 14: Class with Context Manager\n",
    "\n",
    "Create a class named `FileManager` that implements the context manager protocol to open and close a file. Use this class to read the contents of a file.\n",
    "\n",
    "### Assignment 15: Chaining Methods\n",
    "\n",
    "Create a class named `Calculator` with methods to add, subtract, multiply, and divide. Each method should return the object itself to allow method chaining. Create an object and chain multiple method calls."
   ]
  },
  {
   "cell_type": "code",
   "execution_count": null,
   "id": "719aa4dc",
   "metadata": {},
   "outputs": [],
   "source": []
  },
  {
   "cell_type": "code",
   "execution_count": 3,
   "metadata": {},
   "outputs": [
    {
     "name": "stdout",
     "output_type": "stream",
     "text": [
      "Mercedes AMG GTR 2018\n"
     ]
    }
   ],
   "source": [
    "### Assignment 1: Basic Class and Object Creation\n",
    "\n",
    "\n",
    "#Create a class named `Car` with attributes `make`, `model`, and `year`.\n",
    "#  Create an object of the class and print its attributes.\n",
    "\n",
    "\n",
    "class car:\n",
    "    def __init__(self,make,model,year):     #attributes\n",
    "        self.make=make\n",
    "        self.model=model\n",
    "        self.year=year\n",
    "\n",
    "car1=car(\"Mercedes\",'AMG GTR',\"2018\")\n",
    "print(car1.make,car1.model,car1.year)\n",
    "\n",
    "\n",
    "    \n",
    "    "
   ]
  },
  {
   "cell_type": "code",
   "execution_count": 8,
   "id": "d1eb3ff5",
   "metadata": {},
   "outputs": [
    {
     "name": "stdout",
     "output_type": "stream",
     "text": [
      "Mercedes Engine Started\n"
     ]
    }
   ],
   "source": [
    "\n",
    "\n",
    "### Assignment 2: Methods in Class\n",
    "\n",
    "\n",
    "#Add a method named `start_engine` to the `Car` class that prints a message\n",
    "#  when the engine starts. Create an object of the class and call the method.\n",
    "\n",
    "class car:\n",
    "    def __init__(self,make,model,year):     #attributes\n",
    "        self.make=make\n",
    "        self.model=model\n",
    "        self.year=year\n",
    "\n",
    "\n",
    "    def start_engine(self):\n",
    "        print(f\"{car1.make} Engine Started\")\n",
    "car1=car(\"Mercedes\",'AMG GTR',\"2018\")\n",
    "car1.start_engine()"
   ]
  },
  {
   "cell_type": "code",
   "execution_count": 3,
   "id": "12d7500d",
   "metadata": {},
   "outputs": [
    {
     "name": "stdout",
     "output_type": "stream",
     "text": [
      "Kaustubh 22\n"
     ]
    }
   ],
   "source": [
    "### Assignment 3: Class with Constructor\n",
    "\n",
    "#Create a class named `Student` with attributes `name` and `age`. Use a constructor to initialize these attributes.\n",
    "#  Create an object of the class and print its attributes.\n",
    "\n",
    "class student:\n",
    "    def __init__(self,name,age):\n",
    "        self.name=name\n",
    "        self.age=age\n",
    "\n",
    "\n",
    "kaustubh=student(\"Kaustubh\",22)\n",
    "print(kaustubh.name, kaustubh.age)\n"
   ]
  },
  {
   "cell_type": "code",
   "execution_count": 21,
   "id": "144555c0",
   "metadata": {},
   "outputs": [
    {
     "name": "stdout",
     "output_type": "stream",
     "text": [
      "You amount after deposit is : 1500\n",
      "Your balance after withdraw:1300\n",
      "Your balance is : 1300\n"
     ]
    }
   ],
   "source": [
    "### Assignment 4: Class with Private Attributes\n",
    "\n",
    "#Create a class named `BankAccount` with private attributes `account_number` and `balance`.\n",
    "#  Add methods to deposit and withdraw money, and to check the balance. Create an object of the class and perform some operations.\n",
    "\n",
    "class BankAccount:\n",
    "    def __init__(self,account_number,balance):\n",
    "        self.account_number=account_number\n",
    "        self.balance=balance\n",
    "    \n",
    "    def deposit(self,amount):\n",
    "        self.balance+=amount\n",
    "        print(f\"You amount after deposit is : {self.balance}\")\n",
    "    def withdraw(self,withdraw):\n",
    "        if(self.balance<withdraw):\n",
    "            print(\"Insufficient Balance\")\n",
    "        else:\n",
    "            self.balance-=withdraw        \n",
    "            print(f\"Your balance after withdraw:{self.balance}\")\n",
    "    def checkbalance(self):\n",
    "        print(f\"Your balance is : {self.balance}\")\n",
    "\n",
    "account = BankAccount('12345678', 1000)\n",
    "account.deposit(500)\n",
    "account.withdraw(200)\n",
    "account.checkbalance() # 1300\n",
    "# account.withdraw(2000)  # Insufficient balance!"
   ]
  },
  {
   "cell_type": "code",
   "execution_count": 27,
   "id": "4a793a8e",
   "metadata": {},
   "outputs": [
    {
     "name": "stdout",
     "output_type": "stream",
     "text": [
      "Kaustubh 22 K1806\n"
     ]
    }
   ],
   "source": [
    "\n",
    "### Assignment 5: Class Inheritance\n",
    "\n",
    "#Create a base class named `Person` with attributes `name` and `age`. Create a derived class named `Employee` that inherits from `Person` and\n",
    "#  adds an attribute `employee_id`. Create an object of the derived class and print its attributes.\n",
    "\n",
    "\n",
    "class Person:\n",
    "    def __init__(self,name,age):\n",
    "        self.name=name\n",
    "        self.age=age\n",
    "class Employee(Person):\n",
    "    def __init__(self,name,age,employeeId):\n",
    "        super().__init__(name,age)\n",
    "        self.employeeId=employeeId\n",
    "\n",
    "#Test\n",
    "employee = Employee(\"Kaustubh\", 22 , 'K1806')\n",
    "print(employee.name, employee.age, employee.employeeId)"
   ]
  },
  {
   "cell_type": "code",
   "execution_count": 28,
   "id": "aaf1aa4d",
   "metadata": {},
   "outputs": [
    {
     "name": "stdout",
     "output_type": "stream",
     "text": [
      "26 Troy   Jersey  07307  Kaustubh \n"
     ]
    }
   ],
   "source": [
    "\n",
    "#Create a class named `Address` with attributes `street`, `city`, and `zipcode`. \n",
    "# Create a class named `Person` that has an `Address` object as an attribute. \n",
    "# Create an object of the `Person` class and print its address.\n",
    "class Address:\n",
    "    def __init__(self,street,city,zipcode):\n",
    "        self.street=street\n",
    "        self.city=city\n",
    "        self.zipcode=zipcode\n",
    "class Person(Address): # class inheritance\n",
    "    def __init__(self, street, city, zipcode,person):\n",
    "        super().__init__(street, city, zipcode)\n",
    "        self.person=person\n",
    "\n",
    "Kaustubh=Person(\"26 Troy \",\" Jersey \", '07307' ,  \" Kaustubh \")\n",
    "print(Kaustubh.street,Kaustubh.city,Kaustubh.zipcode,Kaustubh.person)\n"
   ]
  },
  {
   "cell_type": "code",
   "execution_count": 29,
   "id": "e50796ef",
   "metadata": {},
   "outputs": [
    {
     "name": "stdout",
     "output_type": "stream",
     "text": [
      " Employee: Name - Kaustubh, Age - 22 , ID - K1806 \n"
     ]
    }
   ],
   "source": [
    "### Assignment 6: Method Overriding\n",
    "\n",
    "#In the `Employee` class, override the `__str__` method to return a string representation of the object.\n",
    "#  Create an object of the class and print it.\n",
    "\n",
    "class Person:\n",
    "    def __init__(self,name,age):\n",
    "        self.name=name\n",
    "        self.age=age\n",
    "class Employee(Person):\n",
    "    def __init__(self,name,age,employeeId):\n",
    "        super().__init__(name,age)\n",
    "        self.employeeId=employeeId\n",
    "\n",
    "    def __str__(self):\n",
    "        return f\" Employee: Name - {self.name}, Age - {self.age} , ID - {self.employeeId} \"\n",
    "    \n",
    "employee=Employee(\"Kaustubh\",\"22\",'K1806') # we always use super class for \n",
    "print(employee)\n"
   ]
  },
  {
   "cell_type": "code",
   "execution_count": 34,
   "id": "292523bd",
   "metadata": {},
   "outputs": [
    {
     "name": "stdout",
     "output_type": "stream",
     "text": [
      "1\n",
      "3\n"
     ]
    }
   ],
   "source": [
    "\n",
    "#Create a class named `Counter` with a class variable `count`. Each time an object is created, increment the count. \n",
    "# Add a method to get the current count. Create multiple objects and print the count.\n",
    "\n",
    "class Counter:\n",
    "    count = 0\n",
    "\n",
    "    def __init__(self):\n",
    "        Counter.count += 1\n",
    "\n",
    "    @classmethod\n",
    "    def get_count(cls):\n",
    "        return cls.count\n",
    "\n",
    "\n",
    "# Creating objects of Counter\n",
    "c1 = Counter()\n",
    "print(Counter.get_count())  # Output: 3\n",
    "c2 = Counter()\n",
    "c3 = Counter()\n",
    "\n",
    "# Getting count of objects created\n",
    "print(Counter.get_count())  # Output: 3\n"
   ]
  },
  {
   "cell_type": "code",
   "execution_count": 36,
   "id": "0f832fc5",
   "metadata": {},
   "outputs": [
    {
     "name": "stdout",
     "output_type": "stream",
     "text": [
      "6.0\n"
     ]
    }
   ],
   "source": [
    "### Assignment 9: Static Methods\n",
    "\n",
    "#Create a class named `MathOperations` with a static method to calculate the square root of a number. Call the static method without creating an object.\n",
    "import math\n",
    "class MathOperation:\n",
    "    @staticmethod\n",
    "    def sqrt(x):\n",
    "        return math.sqrt(x)\n",
    "print(MathOperation.sqrt(36))\n",
    "        \n"
   ]
  },
  {
   "cell_type": "code",
   "execution_count": 39,
   "id": "3c2e8b6f",
   "metadata": {},
   "outputs": [
    {
     "name": "stdout",
     "output_type": "stream",
     "text": [
      "10 5\n"
     ]
    }
   ],
   "source": [
    "### Assignment 10: Class with Properties\n",
    "\n",
    "#Create a class named `Rectangle` with private attributes `length` and `width`. Use properties to get and set these attributes. \n",
    "# Create an object of the class and test the properties.\n",
    "\n",
    "\n",
    "class Rectangle:\n",
    "    def __init__(self, length, width):\n",
    "        self.__length = length\n",
    "        self.__width = width\n",
    "\n",
    "    @property # This work as a getter instead of using .get\n",
    "    def length(self):\n",
    "        return self.__length\n",
    "\n",
    "    @length.setter  # This set lenth for rectangle \n",
    "    def length(self, length):\n",
    "        self.__length = length\n",
    "\n",
    "    @property   \n",
    "    def width(self):\n",
    "        return self.__width\n",
    "\n",
    "    @width.setter\n",
    "    def width(self, width):\n",
    "        self.__width = width\n",
    "\n",
    "# Test\n",
    "rect = Rectangle(10, 5)\n",
    "print(rect.length, rect.width)  # 10 5\n",
    "# rect.length = 10\n",
    "# rect.width = 5\n",
    "print(rect.length, rect.width)  # 15 7"
   ]
  },
  {
   "cell_type": "code",
   "execution_count": null,
   "id": "6b4a87a9",
   "metadata": {},
   "outputs": [],
   "source": [
    "### Assignment 11: Abstract Base Class\n",
    "\n",
    "#Create an abstract base class named `Shape` with an abstract method `area`. Create derived classes `Circle` and `Square` that implement the `area` method.\n",
    "#  Create objects of the derived classes and call the `area` method.\n",
    "\n",
    "\n",
    "from abc import ABC , abstractmethod\n",
    "\n",
    "class Shape(ABC)"
   ]
  }
 ],
 "metadata": {
  "kernelspec": {
   "display_name": "Python 3",
   "language": "python",
   "name": "python3"
  },
  "language_info": {
   "codemirror_mode": {
    "name": "ipython",
    "version": 3
   },
   "file_extension": ".py",
   "mimetype": "text/x-python",
   "name": "python",
   "nbconvert_exporter": "python",
   "pygments_lexer": "ipython3",
   "version": "3.11.7"
  }
 },
 "nbformat": 4,
 "nbformat_minor": 5
}

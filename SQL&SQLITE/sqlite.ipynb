{
 "cells": [
  {
   "cell_type": "markdown",
   "metadata": {},
   "source": [
    "# SQL and SQLite\n",
    "\n",
    "SQL ( Structure Query Language ) is a standard language for managining and manipuylating relation databases.\n",
    "\n",
    "SQLite is a self-containes serverless and zero configuration database engine which is widely used for embedded database systems.\n",
    "\n",
    "In this notebook , we are creating , tables, databases and performing Various Sql operations .\n"
   ]
  },
  {
   "cell_type": "code",
   "execution_count": 14,
   "metadata": {},
   "outputs": [],
   "source": [
    "import sqlite3"
   ]
  },
  {
   "cell_type": "code",
   "execution_count": 15,
   "metadata": {},
   "outputs": [
    {
     "data": {
      "text/plain": [
       "<sqlite3.Connection at 0x10edfdf30>"
      ]
     },
     "execution_count": 15,
     "metadata": {},
     "output_type": "execute_result"
    }
   ],
   "source": [
    "# Connect to an Sqlie database\n",
    "connection=sqlite3.connect('example.db')\n",
    "connection"
   ]
  },
  {
   "cell_type": "code",
   "execution_count": 16,
   "metadata": {},
   "outputs": [],
   "source": [
    "cursor=connection.cursor()"
   ]
  },
  {
   "cell_type": "code",
   "execution_count": 17,
   "metadata": {},
   "outputs": [],
   "source": [
    "# Create a Table\n",
    "cursor.execute('''\n",
    "Create Table If Not Exists employees(\n",
    "    id Integer Primary Key,\n",
    "    name Text Not Null,\n",
    "    age Integer,\n",
    "    department text\n",
    "    )\n",
    "''')\n",
    "\n",
    "# Commit the changes\n",
    "connection.commit()"
   ]
  },
  {
   "cell_type": "code",
   "execution_count": 18,
   "metadata": {},
   "outputs": [
    {
     "data": {
      "text/plain": [
       "<sqlite3.Cursor at 0x10ef0c2c0>"
      ]
     },
     "execution_count": 18,
     "metadata": {},
     "output_type": "execute_result"
    }
   ],
   "source": [
    "cursor.execute('''\n",
    "Select * from employees\n",
    "''')"
   ]
  },
  {
   "cell_type": "code",
   "execution_count": 19,
   "metadata": {},
   "outputs": [],
   "source": [
    "# Insert the data in sqlite table \n",
    "cursor.execute('''\n",
    "Insert into employees(name,age,department)\n",
    "        values(\"Kaustubh\",22,'Data Scientist')\n",
    "''')\n",
    "\n",
    "\n",
    "cursor.execute('''\n",
    "Insert into employees(name,age,department)\n",
    "        values(\"Omkar\",25,'Scientist')\n",
    "''')\n",
    "\n",
    "\n",
    "cursor.execute('''\n",
    "Insert into employees(name,age,department)\n",
    "        values(\"Adi\",20,'Data')\n",
    "''')\n",
    "\n",
    "cursor.execute('''\n",
    "Insert into employees(name,age,department)\n",
    "        values(\"Om\",22,'Data Engineer')\n",
    "''')\n",
    "\n",
    "cursor.execute('''\n",
    "Insert into employees(name,age,department)\n",
    "        values(\"Suyash\",23,'Data S')\n",
    "''')\n",
    "\n",
    "## Connection . commit\n",
    "connection.commit() # Commiti the changes\n"
   ]
  },
  {
   "cell_type": "code",
   "execution_count": 20,
   "metadata": {},
   "outputs": [
    {
     "name": "stdout",
     "output_type": "stream",
     "text": [
      "(1, 'Kaustubh', 22, 'Data Scientist')\n",
      "(2, 'Kaustubh', 22, 'Data Scientist')\n",
      "(3, 'Omkar', 25, 'Scientist')\n",
      "(4, 'Adi', 20, 'Data')\n",
      "(5, 'Om', 22, 'Data Engineer')\n",
      "(6, 'Suyash', 23, 'Data S')\n",
      "(7, 'Kaustubh', 22, 'Data Scientist')\n",
      "(8, 'Omkar', 25, 'Scientist')\n",
      "(9, 'Adi', 20, 'Data')\n",
      "(10, 'Om', 22, 'Data Engineer')\n",
      "(11, 'Suyash', 23, 'Data S')\n",
      "(12, 'Kaustubh', 22, 'Data Scientist')\n",
      "(13, 'Omkar', 25, 'Scientist')\n",
      "(14, 'Adi', 20, 'Data')\n",
      "(15, 'Om', 22, 'Data Engineer')\n",
      "(16, 'Suyash', 23, 'Data S')\n"
     ]
    }
   ],
   "source": [
    "# Querying any data from sqlite3 \n",
    "cursor.execute('Select * from employees')\n",
    "rows=cursor.fetchall()\n",
    "# print the queried data \n",
    "for row in rows:\n",
    "    print(row)"
   ]
  },
  {
   "cell_type": "code",
   "execution_count": 23,
   "metadata": {},
   "outputs": [],
   "source": [
    "cursor.execute('''\n",
    "Update employees\n",
    "Set age=23\n",
    "Where name=\"Kaustubh\"\n",
    "''')\n",
    "connection.commit()"
   ]
  },
  {
   "cell_type": "code",
   "execution_count": null,
   "metadata": {},
   "outputs": [
    {
     "name": "stdout",
     "output_type": "stream",
     "text": [
      "(1, 'Kaustubh', 23, 'Data Scientist')\n",
      "(2, 'Kaustubh', 23, 'Data Scientist')\n",
      "(3, 'Omkar', 25, 'Scientist')\n",
      "(4, 'Adi', 20, 'Data')\n",
      "(5, 'Om', 22, 'Data Engineer')\n",
      "(6, 'Suyash', 23, 'Data S')\n",
      "(7, 'Kaustubh', 23, 'Data Scientist')\n",
      "(8, 'Omkar', 25, 'Scientist')\n",
      "(9, 'Adi', 20, 'Data')\n",
      "(10, 'Om', 22, 'Data Engineer')\n",
      "(11, 'Suyash', 23, 'Data S')\n",
      "(12, 'Kaustubh', 23, 'Data Scientist')\n",
      "(13, 'Omkar', 25, 'Scientist')\n",
      "(14, 'Adi', 20, 'Data')\n",
      "(15, 'Om', 22, 'Data Engineer')\n",
      "(16, 'Suyash', 23, 'Data S')\n"
     ]
    }
   ],
   "source": [
    "cursor.execute('Select * from employees')\n",
    "rows=cursor.fetchall()\n",
    "# print the queried data \n",
    "for row in rows:\n",
    "    print(row)"
   ]
  },
  {
   "cell_type": "code",
   "execution_count": 26,
   "metadata": {},
   "outputs": [],
   "source": [
    "cursor.execute('''\n",
    "Delete From Employees\n",
    "where name='Adi'\n",
    "''')\n",
    "\n",
    "connection.commit()"
   ]
  },
  {
   "cell_type": "code",
   "execution_count": 27,
   "metadata": {},
   "outputs": [
    {
     "name": "stdout",
     "output_type": "stream",
     "text": [
      "(1, 'Kaustubh', 23, 'Data Scientist')\n",
      "(2, 'Kaustubh', 23, 'Data Scientist')\n",
      "(3, 'Omkar', 25, 'Scientist')\n",
      "(5, 'Om', 22, 'Data Engineer')\n",
      "(6, 'Suyash', 23, 'Data S')\n",
      "(7, 'Kaustubh', 23, 'Data Scientist')\n",
      "(8, 'Omkar', 25, 'Scientist')\n",
      "(10, 'Om', 22, 'Data Engineer')\n",
      "(11, 'Suyash', 23, 'Data S')\n",
      "(12, 'Kaustubh', 23, 'Data Scientist')\n",
      "(13, 'Omkar', 25, 'Scientist')\n",
      "(15, 'Om', 22, 'Data Engineer')\n",
      "(16, 'Suyash', 23, 'Data S')\n"
     ]
    }
   ],
   "source": [
    "cursor.execute('Select * from employees')\n",
    "rows=cursor.fetchall()\n",
    "# print the queried data \n",
    "for row in rows:\n",
    "    print(row)"
   ]
  },
  {
   "cell_type": "markdown",
   "metadata": {},
   "source": [
    "## Working with Sales Data \n",
    "\n"
   ]
  },
  {
   "cell_type": "code",
   "execution_count": 31,
   "metadata": {},
   "outputs": [],
   "source": [
    "# Connection to an Sqlite database \n",
    "connect=sqlite3.connect('sales_data.db')\n",
    "cursor=connect.cursor()\n",
    "\n",
    "# Create Table for Sales Data \n",
    "cursor.execute('''\n",
    "CREATE TABLE IF NOT EXISTS sales(\n",
    "               id INTEGER PRIMARY KEY,\n",
    "               date TEXT NOT NULL,\n",
    "               product TEXT NOT NULL,\n",
    "               sales INTEGER,\n",
    "               region TEXT\n",
    "               )\n",
    "\n",
    "''')\n",
    "\n",
    "\n",
    "# Insert data into sales table\n",
    "\n",
    "sales_data=[\n",
    "    ('2023-01-01','Product1',100,'North'),\n",
    "    ('2023-01-02','Product1',200,'South'),\n",
    "    ('2023-01-03','Product1',150,'East'),\n",
    "    ('2023-01-04','Product1',250,'West'),\n",
    "    ('2023-01-05','Product1',300,'North')\n",
    "\n",
    "]\n",
    "\n",
    "cursor.executemany(''' \n",
    "Insert into sales(date,product,sales,region)\n",
    "                   values(?,?,?,?)\n",
    "\n",
    "\n",
    "''',sales_data)\n",
    "\n",
    "# Commit\n",
    "connection.commit()"
   ]
  },
  {
   "cell_type": "code",
   "execution_count": 35,
   "metadata": {},
   "outputs": [
    {
     "name": "stdout",
     "output_type": "stream",
     "text": [
      "(1, '2023-01-01', 'Product1', 100, 'North')\n",
      "(2, '2023-01-02', 'Product1', 200, 'South')\n",
      "(3, '2023-01-03', 'Product1', 150, 'East')\n",
      "(4, '2023-01-04', 'Product1', 250, 'West')\n",
      "(5, '2023-01-05', 'Product1', 300, 'North')\n"
     ]
    }
   ],
   "source": [
    "cursor.execute('Select * From sales')\n",
    "rows=cursor.fetchall()\n",
    "\n",
    "## Print all the rows\n",
    "for row in rows:\n",
    "    print(row)\n"
   ]
  },
  {
   "cell_type": "code",
   "execution_count": 36,
   "metadata": {},
   "outputs": [],
   "source": [
    "# Permanenly close connectiom\n",
    "connection.close()"
   ]
  },
  {
   "cell_type": "code",
   "execution_count": null,
   "metadata": {},
   "outputs": [],
   "source": []
  }
 ],
 "metadata": {
  "kernelspec": {
   "display_name": "base",
   "language": "python",
   "name": "python3"
  },
  "language_info": {
   "codemirror_mode": {
    "name": "ipython",
    "version": 3
   },
   "file_extension": ".py",
   "mimetype": "text/x-python",
   "name": "python",
   "nbconvert_exporter": "python",
   "pygments_lexer": "ipython3",
   "version": "3.11.7"
  }
 },
 "nbformat": 4,
 "nbformat_minor": 2
}

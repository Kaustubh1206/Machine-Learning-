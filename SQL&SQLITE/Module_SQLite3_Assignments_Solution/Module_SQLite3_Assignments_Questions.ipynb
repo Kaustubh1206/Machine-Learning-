{
 "cells": [
  {
   "cell_type": "markdown",
   "id": "964cf61d",
   "metadata": {},
   "source": [
    "# Module: SQLite3 Assignments\n",
    "## Lesson: SQLite3\n",
    "### Assignment 1: Creating and Connecting to a Database\n",
    "\n",
    "1. Write a Python function to create a new SQLite3 database named `test.db`.\n",
    "2. Write a Python function to create a table named `employees` with columns `id` (integer), `name` (text), `age` (integer), and `department` (text) in the `test.db` database.\n",
    "\n",
    "### Assignment 2: Inserting Data\n",
    "\n",
    "1. Write a Python function to insert a new employee into the `employees` table.\n",
    "2. Insert at least 5 different employees into the `employees` table.\n",
    "\n",
    "### Assignment 3: Querying Data\n",
    "\n",
    "1. Write a Python function to fetch and display all records from the `employees` table.\n",
    "2. Write a Python function to fetch and display all employees from a specific department.\n",
    "\n",
    "### Assignment 4: Updating Data\n",
    "\n",
    "1. Write a Python function to update the department of an employee based on their `id`.\n",
    "2. Update the department of at least 2 employees and display the updated records.\n",
    "\n",
    "### Assignment 5: Deleting Data\n",
    "\n",
    "1. Write a Python function to delete an employee from the `employees` table based on their `id`.\n",
    "2. Delete at least 1 employee and display the remaining records.\n",
    "\n",
    "### Assignment 6: Advanced Queries\n",
    "\n",
    "1. Write a Python function to fetch and display employees older than a certain age.\n",
    "2. Write a Python function to fetch and display employees whose names start with a specific letter.\n",
    "\n",
    "### Assignment 7: Handling Transactions\n",
    "\n",
    "1. Write a Python function to insert multiple employees into the `employees` table in a single transaction. Ensure that if any insertion fails, none of the insertions are committed.\n",
    "2. Write a Python function to update the age of multiple employees in a single transaction. Ensure that if any update fails, none of the updates are committed.\n",
    "\n",
    "### Assignment 8: Creating Relationships\n",
    "\n",
    "1. Create a new table named `departments` with columns `id` (integer) and `name` (text).\n",
    "2. Modify the `employees` table to include a foreign key referencing the `id` column in the `departments` table.\n",
    "3. Write a Python function to insert data into both the `departments` and `employees` tables, ensuring referential integrity.\n",
    "\n",
    "### Assignment 9: Indexing and Optimization\n",
    "\n",
    "1. Create an index on the `name` column of the `employees` table.\n",
    "2. Write a Python function to fetch and display all employees whose names start with a specific letter. Compare the performance with and without the index.\n",
    "\n",
    "### Assignment 10: Backing Up and Restoring Data\n",
    "\n",
    "1. Write a Python function to back up the `test.db` database to a file named `backup.db`.\n",
    "2. Write a Python function to restore the `test.db` database from the `backup.db` file."
   ]
  },
  {
   "cell_type": "markdown",
   "id": "6907077f",
   "metadata": {},
   "source": [
    "### Assignment 1: Creating and Connecting to a Database\n",
    "\n",
    "\n",
    "1. Write a Python function to create a new SQLite3 database named `test.db`.\n",
    "2. Write a Python function to create a table named `employees` with columns `id` (integer), `name` (text), `age` (integer), and `department` (text) in the `test.db` database."
   ]
  },
  {
   "cell_type": "code",
   "execution_count": 2,
   "id": "3be6d226",
   "metadata": {},
   "outputs": [
    {
     "data": {
      "text/plain": [
       "<sqlite3.Connection at 0x115ab57b0>"
      ]
     },
     "execution_count": 2,
     "metadata": {},
     "output_type": "execute_result"
    }
   ],
   "source": [
    "import sqlite3\n",
    "\n",
    "connection=sqlite3.connect('test.db')\n",
    "\n",
    "connection\n"
   ]
  },
  {
   "cell_type": "code",
   "execution_count": 7,
   "id": "346fa61c",
   "metadata": {},
   "outputs": [],
   "source": [
    "# 2 \n",
    "cursor=connection.cursor()\n",
    "#Create Table\n",
    "\n",
    "cursor.execute('''\n",
    "Create Table If Not Exists employees(\n",
    "               id Integer Primary Key,\n",
    "               name Text,\n",
    "               age Integer,\n",
    "               department Text)\n",
    "\n",
    "''')\n",
    "\n",
    "connection.commit()"
   ]
  },
  {
   "cell_type": "markdown",
   "id": "c94a9eb5",
   "metadata": {},
   "source": [
    "### Assignment 2: Inserting Data\n",
    "\n",
    "\n",
    "1. Write a Python function to insert a new employee into the `employees` table.\n",
    "2. Insert at least 5 different employees into the `employees` table."
   ]
  },
  {
   "cell_type": "code",
   "execution_count": 12,
   "id": "98d628d0",
   "metadata": {},
   "outputs": [],
   "source": [
    "cursor.execute('''\n",
    "Insert into employees(name,age,department)\n",
    "        values(\"Kaustubh\",22,'Data Scientist')\n",
    "''')\n",
    "\n",
    "\n",
    "cursor.execute('''\n",
    "Insert into employees(name,age,department)\n",
    "        values(\"Omkar\",25,'Scientist')\n",
    "''')\n",
    "\n",
    "\n",
    "cursor.execute('''\n",
    "Insert into employees(name,age,department)\n",
    "        values(\"Adi\",20,'Data')\n",
    "''')\n",
    "\n",
    "cursor.execute('''\n",
    "Insert into employees(name,age,department)\n",
    "        values(\"Om\",22,'Data Engineer')\n",
    "''')\n",
    "\n",
    "cursor.execute('''\n",
    "Insert into employees(name,age,department)\n",
    "        values(\"Suyash\",23,'Data S')\n",
    "''')\n",
    "\n",
    "## Connection . commit\n",
    "connection.commit() # Commiti the changes\n",
    "\n"
   ]
  },
  {
   "cell_type": "code",
   "execution_count": null,
   "id": "6a175c5f",
   "metadata": {},
   "outputs": [],
   "source": []
  }
 ],
 "metadata": {
  "kernelspec": {
   "display_name": "base",
   "language": "python",
   "name": "python3"
  },
  "language_info": {
   "codemirror_mode": {
    "name": "ipython",
    "version": 3
   },
   "file_extension": ".py",
   "mimetype": "text/x-python",
   "name": "python",
   "nbconvert_exporter": "python",
   "pygments_lexer": "ipython3",
   "version": "3.11.7"
  }
 },
 "nbformat": 4,
 "nbformat_minor": 5
}
